{
 "cells": [
  {
   "cell_type": "markdown",
   "id": "5a051aaf",
   "metadata": {},
   "source": [
    "# Fix Provisioning Issues Notebook\n",
    "\n",
    "This notebook addresses two critical issues identified in the provisioning script logs:\n",
    "1. Supervisor not starting\n",
    "2. VisoMaster repository cloning failing due to directory already existing\n",
    "\n",
    "Let's solve these issues one by one."
   ]
  },
  {
   "cell_type": "markdown",
   "id": "10302e41",
   "metadata": {},
   "source": [
    "## 1. Check current status\n",
    "\n",
    "First, let's verify our current environment:"
   ]
  },
  {
   "cell_type": "code",
   "execution_count": null,
   "id": "8542b632",
   "metadata": {},
   "outputs": [],
   "source": [
    "# Check if supervisord is installed\n",
    "!command -v supervisord || echo \"supervisord not installed\"\n",
    "\n",
    "# Check if supervisord.conf exists\n",
    "!ls -la /etc/supervisor/conf.d/ 2>/dev/null || echo \"No supervisor config directory found\"\n",
    "!ls -la /src/supervisord.conf 2>/dev/null || echo \"No supervisord.conf found in /src\"\n",
    "!find / -name \"supervisord.conf\" -type f 2>/dev/null || echo \"No supervisord.conf found anywhere\"\n",
    "\n",
    "# Check VisoMaster directory status\n",
    "!ls -la /VisoMaster 2>/dev/null || echo \"VisoMaster directory doesn't exist\""
   ]
  },
  {
   "cell_type": "markdown",
   "id": "4d893e46",
   "metadata": {},
   "source": [
    "## 2. Fix Supervisor Installation and Configuration\n",
    "\n",
    "Let's install and configure supervisor properly:"
   ]
  },
  {
   "cell_type": "code",
   "execution_count": null,
   "id": "b63b74b3",
   "metadata": {},
   "outputs": [],
   "source": [
    "# Install supervisor if not present\n",
    "!apt-get update && apt-get install -y supervisor\n",
    "\n",
    "# Create basic supervisor config if none exists\n",
    "!mkdir -p /etc/supervisor/conf.d\n",
    "!if [ ! -f \"/src/supervisord.conf\" ]; then\n",
    "    cat > /src/supervisord.conf << 'EOF'\n",
    "[supervisord]\n",
    "nodaemon=true\n",
    "logfile=/logs/supervisord.log\n",
    "pidfile=/var/run/supervisord.pid\n",
    "childlogdir=/logs\n",
    "\n",
    "[unix_http_server]\n",
    "file=/var/run/supervisor.sock\n",
    "\n",
    "[rpcinterface:supervisor]\n",
    "supervisor.rpcinterface_factory=supervisor.rpcinterface:make_main_rpcinterface\n",
    "\n",
    "[supervisorctl]\n",
    "serverurl=unix:///var/run/supervisor.sock\n",
    "\n",
    "[include]\n",
    "files=/etc/supervisor/conf.d/*.conf\n",
    "EOF\n",
    "    echo \"Created default supervisord.conf\"\n",
    "fi\n",
    "\n",
    "# Create directory for logs\n",
    "!mkdir -p /logs\n",
    "\n",
    "# Start supervisor\n",
    "!supervisord -c /src/supervisord.conf\n",
    "\n",
    "# Check if it's running\n",
    "!supervisorctl status || echo \"Failed to check supervisor status\""
   ]
  },
  {
   "cell_type": "markdown",
   "id": "32405a87",
   "metadata": {},
   "source": [
    "## 3. Fix the VisoMaster Repository\n",
    "\n",
    "Now let's fix the repository cloning issue:"
   ]
  },
  {
   "cell_type": "code",
   "execution_count": null,
   "id": "0898b013",
   "metadata": {},
   "outputs": [],
   "source": [
    "# Check the current state of VisoMaster\n",
    "!if [ -d \"/VisoMaster\" ]; then\n",
    "    echo \"=== VisoMaster content ===\"\n",
    "    ls -la /VisoMaster\n",
    "    echo \"=== Git status (if applicable) ===\"\n",
    "    cd /VisoMaster && git status 2>/dev/null || echo \"Not a valid git repository\"\n",
    "fi"
   ]
  },
  {
   "cell_type": "code",
   "execution_count": null,
   "id": "d1dae133",
   "metadata": {},
   "outputs": [],
   "source": [
    "# Ask user for their preference\n",
    "import ipywidgets as widgets\n",
    "from IPython.display import display\n",
    "\n",
    "print(\"Choose how to handle the existing VisoMaster directory:\")\n",
    "option = widgets.RadioButtons(\n",
    "    options=[\n",
    "        ('Delete and re-clone (CAUTION: Will remove all existing files)', 'delete'),\n",
    "        ('Keep but update (Will run git pull if it\\'s a valid repo)', 'update'),\n",
    "        ('Rename existing and clone fresh copy', 'rename'),\n",
    "        ('Do nothing (Keep current state)', 'nothing')\n",
    "    ],\n",
    "    value='update',\n",
    "    description='Action:',\n",
    "    disabled=False\n",
    ")\n",
    "\n",
    "display(option)\n",
    "\n",
    "button = widgets.Button(description=\"Execute Selected Action\")\n",
    "output = widgets.Output()\n",
    "\n",
    "def on_button_clicked(b):\n",
    "    with output:\n",
    "        print(f\"Executing: {option.value}\")\n",
    "        if option.value == 'delete':\n",
    "            !rm -rf /VisoMaster\n",
    "            !git clone \"https://github.com/remphan1618/VisoMaster.git\" \"/VisoMaster\"\n",
    "            print(\"Repository deleted and re-cloned.\")\n",
    "        elif option.value == 'update':\n",
    "            !cd /VisoMaster && git pull || echo \"Failed to update - not a valid git repository\"\n",
    "            print(\"Repository updated (if it was a valid git repo).\")\n",
    "        elif option.value == 'rename':\n",
    "            !mv /VisoMaster /VisoMaster_$(date +%Y%m%d%H%M%S)\n",
    "            !git clone \"https://github.com/remphan1618/VisoMaster.git\" \"/VisoMaster\"\n",
    "            print(\"Old repository renamed and fresh copy cloned.\")\n",
    "        else:\n",
    "            print(\"No action taken.\")\n",
    "\n",
    "button.on_click(on_button_clicked)\n",
    "display(button, output)"
   ]
  },
  {
   "cell_type": "markdown",
   "id": "59d3bb68",
   "metadata": {},
   "source": [
    "## 4. Update Provisioning Script to Handle Existing Repository\n",
    "\n",
    "Let's modify the provisioning script to handle the case when the repository already exists:"
   ]
  },
  {
   "cell_type": "code",
   "execution_count": null,
   "id": "ae21b951",
   "metadata": {},
   "outputs": [],
   "source": [
    "# Create a patched provisioning script\n",
    "!grep -A 5 -B 5 'git clone.*VisoMaster' /logs/provisioning_script.log || echo \"Clone command not found in logs\"\n",
    "\n",
    "# Create a patch file for the provisioning script\n",
    "!cat > /fix_repo_clone.patch << 'EOF'\n",
    "# Add this to your provisioning script where the cloning happens\n",
    "if [ -d \"/VisoMaster\" ]; then\n",
    "  echo \"VisoMaster directory already exists\"\n",
    "  if [ -d \"/VisoMaster/.git\" ]; then\n",
    "    echo \"Updating existing repository...\"\n",
    "    cd /VisoMaster && git pull\n",
    "  else\n",
    "    echo \"Directory exists but is not a git repository. Backing up...\"\n",
    "    mv /VisoMaster \"/VisoMaster_backup_$(date +%Y%m%d%H%M%S)\"\n",
    "    git clone \"https://github.com/remphan1618/VisoMaster.git\" \"/VisoMaster\"\n",
    "  fi\n",
    "else\n",
    "  echo \"Cloning VisoMaster repository...\"\n",
    "  git clone \"https://github.com/remphan1618/VisoMaster.git\" \"/VisoMaster\"\n",
    "fi\n",
    "EOF\n",
    "\n",
    "print(\"Created patch file for repository cloning logic.\")\n",
    "print(\"This patch needs to be applied to your provisioning script.\")"
   ]
  },
  {
   "cell_type": "markdown",
   "id": "454b6a0e",
   "metadata": {},
   "source": [
    "## 5. Verify System Status After Fixes\n",
    "\n",
    "Let's check the system status after our fixes:"
   ]
  },
  {
   "cell_type": "code",
   "execution_count": null,
   "id": "6579b50a",
   "metadata": {},
   "outputs": [],
   "source": [
    "# Check supervisor status\n",
    "!supervisorctl status || echo \"Supervisor not running\"\n",
    "\n",
    "# Check if VisoMaster repo is in good state\n",
    "!if [ -d \"/VisoMaster/.git\" ]; then\n",
    "    echo \"VisoMaster is a valid git repository\"\n",
    "    cd /VisoMaster && git status\n",
    "else\n",
    "    echo \"VisoMaster is not a valid git repository\"\n",
    "fi\n",
    "\n",
    "# Check provisioning script logs for remaining errors\n",
    "!grep -i \"error\\|fatal\\|fail\" /logs/provisioning_script.log | tail -n 10"
   ]
  },
  {
   "cell_type": "markdown",
   "id": "c3029c2c",
   "metadata": {},
   "source": [
    "## 6. Add Services to Supervisor\n",
    "\n",
    "Let's add some basic services to supervisor to demonstrate it's working:"
   ]
  },
  {
   "cell_type": "code",
   "execution_count": null,
   "id": "25323e7b",
   "metadata": {},
   "outputs": [],
   "source": [
    "# Create example service config\n",
    "!mkdir -p /etc/supervisor/conf.d\n",
    "!cat > /etc/supervisor/conf.d/sshd.conf << 'EOF'\n",
    "[program:sshd]\n",
    "command=/usr/sbin/sshd -D\n",
    "autostart=true\n",
    "autorestart=true\n",
    "stdout_logfile=/logs/sshd.log\n",
    "stderr_logfile=/logs/sshd_err.log\n",
    "EOF\n",
    "\n",
    "# Reload supervisor configuration\n",
    "!supervisorctl update\n",
    "\n",
    "# Check status again\n",
    "!supervisorctl status"
   ]
  },
  {
   "cell_type": "markdown",
   "id": "b69084f9",
   "metadata": {},
   "source": [
    "## 7. Summary of Fixes\n",
    "\n",
    "We've implemented the following fixes:\n",
    "\n",
    "1. **Supervisor Issue**:\n",
    "   - Installed supervisor if missing\n",
    "   - Created a proper configuration file\n",
    "   - Started the supervisor daemon\n",
    "   - Added an example service\n",
    "\n",
    "2. **VisoMaster Repository Issue**:\n",
    "   - Created options for handling existing repository\n",
    "   - Implemented a patch for the provisioning script to handle this scenario\n",
    "   - Verified repository status\n",
    "\n",
    "These fixes should address the issues reported in your provisioning log. Update your provisioning script with the patch provided to prevent similar issues in the future."
   ]
  }
 ],
 "metadata": {
  "language_info": {
   "name": "python"
  }
 },
 "nbformat": 4,
 "nbformat_minor": 5
}
