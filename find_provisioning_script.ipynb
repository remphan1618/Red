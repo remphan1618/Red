{
 "cells": [
  {
   "cell_type": "markdown",
   "id": "88cb24a5",
   "metadata": {},
   "source": [
    "# Red Project - Vast.ai Provisioning Script Diagnostics\n",
    "\n",
    "This notebook helps diagnose issues with the provisioning scripts and supervisor configuration in the Red Project Vast.ai environment. It provides tools to:\n",
    "\n",
    "1. Check if the provisioning scripts have been executed\n",
    "2. Validate supervisor installation and configuration\n",
    "3. Check service statuses (SSH, VNC, Jupyter)\n",
    "4. View logs from key components\n",
    "5. Fix common issues with the Vast.ai integration\n",
    "\n",
    "Last updated: April 29, 2025"
   ]
  },
  {
   "cell_type": "markdown",
   "id": "25ecbf01",
   "metadata": {},
   "source": [
    "## Environment Overview\n",
    "\n",
    "The Red project is a containerized ML environment designed for Vast.ai GPU instances. It consists of:\n",
    "\n",
    "- **VisoMaster**: Core ML application\n",
    "- **VNC Server**: For graphical interface access\n",
    "- **JupyterLab**: For interactive development\n",
    "- **SSH**: For secure connections\n",
    "\n",
    "All these services should be managed by `supervisor`."
   ]
  },
  {
   "cell_type": "code",
   "execution_count": null,
   "id": "dd08e77a",
   "metadata": {},
   "outputs": [],
   "source": [
    "# Check OS information and environment context\n",
    "import os\n",
    "import subprocess\n",
    "import sys\n",
    "import platform\n",
    "\n",
    "print(f\"\\nPython Version: {sys.version}\")\n",
    "print(f\"Platform: {platform.platform()}\")\n",
    "print(f\"Current working directory: {os.getcwd()}\")\n",
    "print(f\"\\nEnvironment Variables:\\n\")\n",
    "for var in ['JUPYTER_BASE_URL', 'PROVISIONING_SCRIPT', 'VNC_RESOLUTION', 'VNC_PW']:\n",
    "    print(f\"  {var}: {os.environ.get(var, 'Not set')}\")"
   ]
  },
  {
   "cell_type": "markdown",
   "id": "fd1f2b38",
   "metadata": {},
   "source": [
    "## 1. Check Provisioning Scripts\n",
    "\n",
    "Let's check if the provisioning scripts exist and their content."
   ]
  },
  {
   "cell_type": "code",
   "execution_count": null,
   "id": "6b4209fa",
   "metadata": {},
   "outputs": [],
   "source": [
    "# Check for provisioning script locations\n",
    "script_locations = [\n",
    "    '/vast_ai_provisioning_script.sh',\n",
    "    '/src/provisioning_script.sh',\n",
    "    '/VisoMaster/src/provisioning_script.sh',\n",
    "    '/root/provisioning_script.sh'\n",
    "]\n",
    "\n",
    "print(\"Checking for provisioning scripts...\\n\")\n",
    "\n",
    "for location in script_locations:\n",
    "    if os.path.exists(location):\n",
    "        print(f\"✅ Found script at: {location}\")\n",
    "        # Get file modification time\n",
    "        mtime = os.path.getmtime(location)\n",
    "        print(f\"   Last modified: {subprocess.check_output(['date', '-d', f'@{mtime}'], text=True).strip()}\")\n",
    "        print(f\"   Size: {os.path.getsize(location)} bytes\\n\")\n",
    "    else:\n",
    "        print(f\"❌ No script at: {location}\\n\")"
   ]
  },
  {
   "cell_type": "code",
   "execution_count": null,
   "id": "22fe04bd",
   "metadata": {},
   "outputs": [],
   "source": [
    "# Check for evidence that the provisioning script has been executed\n",
    "log_locations = [\n",
    "    '/logs/onstart_script.log',\n",
    "    '/logs/provisioning_script.log',\n",
    "    '/logs/startup.log'\n",
    "]\n",
    "\n",
    "print(\"Checking for provisioning execution logs...\\n\")\n",
    "\n",
    "for log in log_locations:\n",
    "    if os.path.exists(log):\n",
    "        print(f\"✅ Found log at: {log}\")\n",
    "        # Get file modification time\n",
    "        mtime = os.path.getmtime(log)\n",
    "        print(f\"   Last modified: {subprocess.check_output(['date', '-d', f'@{mtime}'], text=True).strip()}\")\n",
    "        print(f\"   Size: {os.path.getsize(log)} bytes\")\n",
    "        # Show last few lines of the log\n",
    "        try:\n",
    "            last_lines = subprocess.check_output([\"tail\", \"-n\", \"5\", log], text=True)\n",
    "            print(f\"   Last few lines:\\n{last_lines}\\n\")\n",
    "        except Exception as e:\n",
    "            print(f\"   Could not read log: {e}\\n\")\n",
    "    else:\n",
    "        print(f\"❌ No log at: {log}\\n\")"
   ]
  },
  {
   "cell_type": "markdown",
   "id": "155661bf",
   "metadata": {},
   "source": [
    "## 2. Check Supervisor Status\n",
    "\n",
    "Let's verify if supervisor is installed and running correctly."
   ]
  },
  {
   "cell_type": "code",
   "execution_count": null,
   "id": "57ff520d",
   "metadata": {},
   "outputs": [],
   "source": [
    "# Check supervisor installation and configuration\n",
    "def run_cmd(cmd):\n",
    "    try:\n",
    "        return subprocess.check_output(cmd.split(), stderr=subprocess.STDOUT, text=True)\n",
    "    except subprocess.CalledProcessError as e:\n",
    "        return f\"ERROR (code {e.returncode}): {e.output}\"\n",
    "    except Exception as e:\n",
    "        return f\"ERROR: {str(e)}\"\n",
    "\n",
    "# Check if supervisor is installed\n",
    "print(\"Checking supervisor installation:\\n\")\n",
    "print(run_cmd(\"which supervisord\"))\n",
    "print(run_cmd(\"supervisord --version\"))\n",
    "\n",
    "# Check supervisor configuration\n",
    "print(\"\\nChecking supervisor configuration:\\n\")\n",
    "config_paths = [\n",
    "    '/etc/supervisor/conf.d/supervisord.conf',\n",
    "    '/etc/supervisord.conf'\n",
    "]\n",
    "\n",
    "for path in config_paths:\n",
    "    if os.path.exists(path):\n",
    "        print(f\"✅ Found config at: {path}\")\n",
    "        try:\n",
    "            with open(path, 'r') as f:\n",
    "                config_content = f.read()\n",
    "            print(f\"\\nConfiguration content preview (first 400 chars):\\n\")\n",
    "            print(config_content[:400] + \"...\")\n",
    "        except Exception as e:\n",
    "            print(f\"❌ Could not read config: {e}\")\n",
    "    else:\n",
    "        print(f\"❌ No config at: {path}\")"
   ]
  },
  {
   "cell_type": "code",
   "execution_count": null,
   "id": "15b0cace",
   "metadata": {},
   "outputs": [],
   "source": [
    "# Check supervisor process status\n",
    "print(\"Checking if supervisor is running:\\n\")\n",
    "print(run_cmd(\"ps aux | grep supervisord\"))\n",
    "\n",
    "# Check supervisor managed services\n",
    "print(\"\\nChecking supervisor managed services:\\n\")\n",
    "print(run_cmd(\"supervisorctl status\"))"
   ]
  },
  {
   "cell_type": "markdown",
   "id": "8f92969e",
   "metadata": {},
   "source": [
    "## 3. Check Critical Services\n",
    "\n",
    "Let's check if the critical services are running."
   ]
  },
  {
   "cell_type": "code",
   "execution_count": null,
   "id": "35749c96",
   "metadata": {},
   "outputs": [],
   "source": [
    "# Check critical services status\n",
    "print(\"Checking SSH service:\\n\")\n",
    "print(run_cmd(\"ps aux | grep sshd\"))\n",
    "print(\"\\nChecking SSH port:\\n\")\n",
    "print(run_cmd(\"netstat -tuln | grep 22\"))\n",
    "\n",
    "print(\"\\nChecking VNC service:\\n\")\n",
    "print(run_cmd(\"ps aux | grep vnc\"))\n",
    "print(\"\\nChecking VNC ports:\\n\")\n",
    "print(run_cmd(\"netstat -tuln | grep 590\"))\n",
    "print(run_cmd(\"netstat -tuln | grep 6080\"))\n",
    "\n",
    "print(\"\\nChecking Jupyter service:\\n\")\n",
    "print(run_cmd(\"ps aux | grep jupyter\"))\n",
    "print(\"\\nChecking Jupyter port:\\n\")\n",
    "print(run_cmd(\"netstat -tuln | grep 8888\"))"
   ]
  },
  {
   "cell_type": "markdown",
   "id": "a1df09e2",
   "metadata": {},
   "source": [
    "## 4. View Important Logs\n",
    "\n",
    "Let's examine the key logs to understand what's happening."
   ]
  },
  {
   "cell_type": "code",
   "execution_count": null,
   "id": "ea4a44ac",
   "metadata": {},
   "outputs": [],
   "source": [
    "# Check logs directory contents\n",
    "print(\"Checking /logs directory contents:\\n\")\n",
    "try:\n",
    "    logs = os.listdir(\"/logs\")\n",
    "    if logs:\n",
    "        for log in logs:\n",
    "            log_path = os.path.join(\"/logs\", log)\n",
    "            size = os.path.getsize(log_path)\n",
    "            mtime = os.path.getmtime(log_path)\n",
    "            print(f\"{log} - Size: {size} bytes, Last modified: {subprocess.check_output(['date', '-d', f'@{mtime}'], text=True).strip()}\")\n",
    "    else:\n",
    "        print(\"No log files found in /logs directory\")\n",
    "except Exception as e:\n",
    "    print(f\"Error accessing logs directory: {e}\")"
   ]
  },
  {
   "cell_type": "code",
   "execution_count": null,
   "id": "a0c48f79",
   "metadata": {},
   "outputs": [],
   "source": [
    "# View supervisor log\n",
    "supervisor_log = '/logs/supervisord.log'\n",
    "print(f\"Viewing supervisor log: {supervisor_log}\\n\")\n",
    "\n",
    "if os.path.exists(supervisor_log):\n",
    "    try:\n",
    "        last_lines = subprocess.check_output([\"tail\", \"-n\", \"50\", supervisor_log], text=True)\n",
    "        print(last_lines)\n",
    "    except Exception as e:\n",
    "        print(f\"Error reading log: {e}\")\n",
    "else:\n",
    "    print(f\"Log file does not exist: {supervisor_log}\")"
   ]
  },
  {
   "cell_type": "markdown",
   "id": "a0a7199e",
   "metadata": {},
   "source": [
    "## 5. Fix Common Issues\n",
    "\n",
    "Here are some common fixes for issues with the environment."
   ]
  },
  {
   "cell_type": "code",
   "execution_count": null,
   "id": "995d0609",
   "metadata": {},
   "outputs": [],
   "source": [
    "# Fix: Supervisor not running\n",
    "def start_supervisor():\n",
    "    print(\"Attempting to start supervisor...\\n\")\n",
    "    result = run_cmd(\"supervisord -c /etc/supervisor/conf.d/supervisord.conf\")\n",
    "    print(result)\n",
    "    print(\"\\nVerifying supervisor status after start attempt:\\n\")\n",
    "    print(run_cmd(\"ps aux | grep supervisord\"))\n",
    "    print(run_cmd(\"supervisorctl status\"))\n",
    "\n",
    "# Only run this when needed\n",
    "# start_supervisor()"
   ]
  },
  {
   "cell_type": "code",
   "execution_count": null,
   "id": "4a064d7f",
   "metadata": {},
   "outputs": [],
   "source": [
    "# Fix: Missing logs directory\n",
    "def ensure_logs_directory():\n",
    "    print(\"Ensuring /logs directory exists with proper permissions...\")\n",
    "    try:\n",
    "        if not os.path.exists('/logs'):\n",
    "            os.makedirs('/logs', exist_ok=True)\n",
    "        # Make sure everyone can write to it\n",
    "        os.system('chmod 777 /logs')\n",
    "        print(\"✅ Logs directory created/fixed successfully\")\n",
    "    except Exception as e:\n",
    "        print(f\"❌ Error creating logs directory: {e}\")\n",
    "\n",
    "# Only run this when needed\n",
    "# ensure_logs_directory()"
   ]
  },
  {
   "cell_type": "code",
   "execution_count": null,
   "id": "87365202",
   "metadata": {},
   "outputs": [],
   "source": [
    "# Fix: Supervisor configuration issues\n",
    "def copy_supervisor_config():\n",
    "    print(\"Copying supervisor configuration to the correct location...\")\n",
    "    try:\n",
    "        # Source locations to check\n",
    "        source_paths = [\n",
    "            '/src/supervisord.conf',\n",
    "            '/VisoMaster/src/supervisord.conf'\n",
    "        ]\n",
    "        \n",
    "        source_path = None\n",
    "        for path in source_paths:\n",
    "            if os.path.exists(path):\n",
    "                source_path = path\n",
    "                break\n",
    "        \n",
    "        if source_path:\n",
    "            # Create directory if it doesn't exist\n",
    "            os.makedirs('/etc/supervisor/conf.d', exist_ok=True)\n",
    "            # Copy the config file\n",
    "            os.system(f'cp {source_path} /etc/supervisor/conf.d/supervisord.conf')\n",
    "            print(f\"✅ Copied supervisor config from {source_path} to /etc/supervisor/conf.d/supervisord.conf\")\n",
    "        else:\n",
    "            print(\"❌ Could not find supervisor configuration file in known locations\")\n",
    "    except Exception as e:\n",
    "        print(f\"❌ Error copying supervisor config: {e}\")\n",
    "\n",
    "# Only run this when needed\n",
    "# copy_supervisor_config()"
   ]
  },
  {
   "cell_type": "markdown",
   "id": "0edf17e7",
   "metadata": {},
   "source": [
    "## 6. Restart Services\n",
    "\n",
    "Functions to restart individual services or all services."
   ]
  },
  {
   "cell_type": "code",
   "execution_count": null,
   "id": "79b4dce1",
   "metadata": {},
   "outputs": [],
   "source": [
    "# Restart individual services\n",
    "def restart_service(service_name):\n",
    "    print(f\"Restarting {service_name} service...\")\n",
    "    result = run_cmd(f\"supervisorctl restart {service_name}\")\n",
    "    print(result)\n",
    "    print(f\"\\nChecking {service_name} status after restart:\")\n",
    "    print(run_cmd(f\"supervisorctl status {service_name}\"))\n",
    "\n",
    "# Available services: sshd, jupyter, vnc\n",
    "# restart_service('sshd')\n",
    "# restart_service('jupyter')\n",
    "# restart_service('vnc')"
   ]
  },
  {
   "cell_type": "code",
   "execution_count": null,
   "id": "9023a308",
   "metadata": {},
   "outputs": [],
   "source": [
    "# Restart all services\n",
    "def restart_all_services():\n",
    "    print(\"Restarting all supervised services...\")\n",
    "    result = run_cmd(\"supervisorctl restart all\")\n",
    "    print(result)\n",
    "    print(\"\\nChecking all services status after restart:\")\n",
    "    print(run_cmd(\"supervisorctl status\"))\n",
    "\n",
    "# Only run this when needed\n",
    "# restart_all_services()"
   ]
  },
  {
   "cell_type": "markdown",
   "id": "f9b60624",
   "metadata": {},
   "source": [
    "## 7. Additional System Diagnostics\n",
    "\n",
    "Check system resources and overall health."
   ]
  },
  {
   "cell_type": "code",
   "execution_count": null,
   "id": "7adb46b1",
   "metadata": {},
   "outputs": [],
   "source": [
    "# System resources check\n",
    "print(\"Checking system resources:\\n\")\n",
    "print(\"CPU and Memory Usage:\")\n",
    "print(run_cmd(\"top -bn1 | head -15\"))\n",
    "\n",
    "print(\"\\nDisk Space:\")\n",
    "print(run_cmd(\"df -h\"))\n",
    "\n",
    "print(\"\\nGPU Status:\")\n",
    "print(run_cmd(\"nvidia-smi\"))"
   ]
  },
  {
   "cell_type": "code",
   "execution_count": null,
   "id": "005633ea",
   "metadata": {},
   "outputs": [],
   "source": [
    "# Check network connections\n",
    "print(\"Active network connections:\\n\")\n",
    "print(run_cmd(\"netstat -tuln\"))"
   ]
  },
  {
   "cell_type": "markdown",
   "id": "5a0a3113",
   "metadata": {},
   "source": [
    "## 8. Manual Service Control\n",
    "\n",
    "If supervisor is not working, you can manually start services."
   ]
  },
  {
   "cell_type": "code",
   "execution_count": null,
   "id": "79114677",
   "metadata": {},
   "outputs": [],
   "source": [
    "# Manually start SSH server\n",
    "def manual_start_sshd():\n",
    "    print(\"Manually starting SSH server...\")\n",
    "    # Make sure the directory exists\n",
    "    os.system(\"mkdir -p /var/run/sshd\")\n",
    "    result = run_cmd(\"/usr/sbin/sshd\")\n",
    "    print(result)\n",
    "    print(\"\\nVerifying SSH service status:\")\n",
    "    print(run_cmd(\"ps aux | grep sshd\"))\n",
    "    print(run_cmd(\"netstat -tuln | grep 22\"))\n",
    "\n",
    "# Only run this when needed\n",
    "# manual_start_sshd()"
   ]
  },
  {
   "cell_type": "code",
   "execution_count": null,
   "id": "ee2c1ec6",
   "metadata": {},
   "outputs": [],
   "source": [
    "# Manually start VNC server\n",
    "def manual_start_vnc():\n",
    "    print(\"Manually starting VNC server...\")\n",
    "    \n",
    "    # Kill existing VNC processes if any\n",
    "    os.system(\"pkill -f vnc 2>/dev/null || true\")\n",
    "    \n",
    "    # Initialize Xauthority\n",
    "    os.system(\"touch /root/.Xauthority\")\n",
    "    os.system(\"xauth generate :1 . trusted\")\n",
    "    \n",
    "    # Create VNC password if it doesn't exist\n",
    "    if not os.path.exists(\"/root/.vnc/passwd\"):\n",
    "        os.makedirs(\"/root/.vnc\", exist_ok=True)\n",
    "        os.system(\"echo 'vncpasswd123' | vncpasswd -f > /root/.vnc/passwd\")\n",
    "        os.system(\"chmod 600 /root/.vnc/passwd\")\n",
    "    \n",
    "    # Start VNC server\n",
    "    os.system(\"vncserver :1 -depth 24 -geometry 1280x800 -localhost no\")\n",
    "    \n",
    "    # Start WebSockets proxy\n",
    "    os.system(\"websockify 0.0.0.0:6080 localhost:5901 &\")\n",
    "    \n",
    "    print(\"\\nVerifying VNC service status:\")\n",
    "    print(run_cmd(\"ps aux | grep vnc\"))\n",
    "    print(run_cmd(\"netstat -tuln | grep 590\"))\n",
    "    print(run_cmd(\"netstat -tuln | grep 6080\"))\n",
    "\n",
    "# Only run this when needed\n",
    "# manual_start_vnc()"
   ]
  },
  {
   "cell_type": "markdown",
   "id": "d6572b0c",
   "metadata": {},
   "source": [
    "## 9. Overall Provisioning Status Report\n",
    "\n",
    "Generate a summary report of the environment status."
   ]
  },
  {
   "cell_type": "code",
   "execution_count": null,
   "id": "22a97d96",
   "metadata": {},
   "outputs": [],
   "source": [
    "# Generate overall status report\n",
    "def check_service_running(service_name, process_pattern):\n",
    "    try:\n",
    "        output = subprocess.check_output([\"ps\", \"aux\"], text=True)\n",
    "        return process_pattern in output and not (f\"grep {process_pattern}\" in output)\n",
    "    except:\n",
    "        return False\n",
    "\n",
    "def check_port_listening(port):\n",
    "    try:\n",
    "        output = subprocess.check_output([\"netstat\", \"-tuln\"], text=True)\n",
    "        return f\":{port} \" in output\n",
    "    except:\n",
    "        return False\n",
    "\n",
    "def check_directory_exists(directory):\n",
    "    return os.path.exists(directory) and os.path.isdir(directory)\n",
    "\n",
    "def check_file_exists(file_path):\n",
    "    return os.path.exists(file_path) and os.path.isfile(file_path)\n",
    "\n",
    "print(\"=== Red Project Vast.ai Environment Status Report ===\\n\")\n",
    "\n",
    "# Check key components\n",
    "components = [\n",
    "    (\"Supervisor Running\", check_service_running(\"supervisord\", \"supervisord\"), \"Critical\"),\n",
    "    (\"SSH Server Running\", check_service_running(\"sshd\", \"sshd\"), \"Critical\"),\n",
    "    (\"SSH Port (22) Open\", check_port_listening(22), \"Critical\"),\n",
    "    (\"VNC Server Running\", check_service_running(\"vnc\", \"Xvnc\"), \"Important\"),\n",
    "    (\"VNC Port (5901) Open\", check_port_listening(5901), \"Important\"),\n",
    "    (\"WebSocket Proxy Port (6080) Open\", check_port_listening(6080), \"Important\"),\n",
    "    (\"Jupyter Running\", check_service_running(\"jupyter\", \"jupyter\"), \"Important\"),\n",
    "    (\"Jupyter Port (8888) Open\", check_port_listening(8888), \"Important\"),\n",
    "    (\"Logs Directory Exists\", check_directory_exists(\"/logs\"), \"Critical\"),\n",
    "    (\"VisoMaster Installed\", check_directory_exists(\"/VisoMaster\"), \"Critical\"),\n",
    "    (\"Supervisor Config Exists\", check_file_exists(\"/etc/supervisor/conf.d/supervisord.conf\"), \"Critical\")\n",
    "]\n",
    "\n",
    "# Print status table\n",
    "print(f\"{'Component':<40} {'Status':<10} {'Priority':<10}\")\n",
    "print(\"-\" * 60)\n",
    "\n",
    "overall_status = True\n",
    "for component, status, priority in components:\n",
    "    status_str = \"✅ OK\" if status else \"❌ FAIL\"\n",
    "    if not status and priority == \"Critical\":\n",
    "        overall_status = False\n",
    "    print(f\"{component:<40} {status_str:<10} {priority:<10}\")\n",
    "\n",
    "print(\"\\nOverall Status: \" + (\"✅ Environment appears to be functioning properly\" if overall_status else \"❌ Critical components are missing or not running\"))\n",
    "\n",
    "if not overall_status:\n",
    "    print(\"\\nRecommended actions:\")\n",
    "    print(\"1. Run the 'ensure_logs_directory()' function to create the logs directory\")\n",
    "    print(\"2. Run the 'copy_supervisor_config()' function to fix supervisor configuration\")\n",
    "    print(\"3. Run the 'start_supervisor()' function to start supervisor\")\n",
    "    print(\"4. If supervisor still fails, use the manual service start functions\")"
   ]
  }
 ],
 "metadata": {
  "language_info": {
   "name": "python"
  }
 },
 "nbformat": 4,
 "nbformat_minor": 5
}
