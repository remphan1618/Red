{
 "cells": [
  {
   "cell_type": "markdown",
   "id": "82cfc962",
   "metadata": {},
   "source": [
    "# Vast.ai Environment Test\n",
    "\n",
    "This notebook helps verify that your Vast.ai environment is correctly set up and working properly."
   ]
  },
  {
   "cell_type": "markdown",
   "id": "86fdb8ee",
   "metadata": {},
   "source": [
    "## 1. System Information\n",
    "\n",
    "Let's check the system specifications and CUDA availability."
   ]
  },
  {
   "cell_type": "code",
   "execution_count": null,
   "id": "a4fa25ee",
   "metadata": {},
   "outputs": [],
   "source": [
    "# Check system information\n",
    "!cat /etc/os-release\n",
    "!python --version\n",
    "!nvidia-smi"
   ]
  },
  {
   "cell_type": "markdown",
   "id": "48d2d961",
   "metadata": {},
   "source": [
    "## 2. Verify CUDA and PyTorch"
   ]
  },
  {
   "cell_type": "code",
   "execution_count": null,
   "id": "8b434669",
   "metadata": {},
   "outputs": [],
   "source": [
    "import torch\n",
    "\n",
    "print(f\"PyTorch version: {torch.__version__}\")\n",
    "print(f\"CUDA available: {torch.cuda.is_available()}\")\n",
    "\n",
    "if torch.cuda.is_available():\n",
    "    print(f\"CUDA version: {torch.version.cuda}\")\n",
    "    print(f\"GPU device: {torch.cuda.get_device_name(0)}\")\n",
    "    print(f\"GPU memory: {torch.cuda.get_device_properties(0).total_memory / 1e9:.2f} GB\")"
   ]
  },
  {
   "cell_type": "markdown",
   "id": "45d91e85",
   "metadata": {},
   "source": [
    "## 3. Check Installed Packages"
   ]
  },
  {
   "cell_type": "code",
   "execution_count": null,
   "id": "ed61f577",
   "metadata": {},
   "outputs": [],
   "source": [
    "!pip list | grep -E \"torch|transformers|diffusers|numpy|matplotlib|opencv\""
   ]
  },
  {
   "cell_type": "markdown",
   "id": "4e32b5de",
   "metadata": {},
   "source": [
    "## 4. Test X Server\n",
    "\n",
    "This cell will help verify if your X server setup is working properly."
   ]
  },
  {
   "cell_type": "code",
   "execution_count": null,
   "id": "0d8251a4",
   "metadata": {},
   "outputs": [],
   "source": [
    "import os\n",
    "\n",
    "# Print DISPLAY environment variable\n",
    "print(f\"DISPLAY environment variable: {os.environ.get('DISPLAY')}\")\n",
    "\n",
    "# Try loading a GUI library that requires X server\n",
    "try:\n",
    "    import matplotlib.pyplot as plt\n",
    "    plt.figure(figsize=(2, 2))\n",
    "    plt.text(0.5, 0.5, 'X Server Works!', ha='center', va='center', fontsize=12)\n",
    "    plt.axis('off')\n",
    "    plt.show()\n",
    "    print(\"X server is working properly.\")\n",
    "except Exception as e:\n",
    "    print(f\"X server test failed: {e}\")"
   ]
  },
  {
   "cell_type": "markdown",
   "id": "db548b61",
   "metadata": {},
   "source": [
    "## 5. Verify VisoMaster Setup\n",
    "\n",
    "Check if the VisoMaster repository is correctly set up."
   ]
  },
  {
   "cell_type": "code",
   "execution_count": null,
   "id": "6620d0e3",
   "metadata": {},
   "outputs": [],
   "source": [
    "!ls -la /workspace/visomaster\n",
    "!ls -la /VisoMaster/models"
   ]
  }
 ],
 "metadata": {
  "language_info": {
   "name": "python"
  }
 },
 "nbformat": 4,
 "nbformat_minor": 5
}
