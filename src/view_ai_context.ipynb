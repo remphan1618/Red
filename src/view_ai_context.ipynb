{
 "cells": [
  {
   "cell_type": "markdown",
   "id": "7712876d",
   "metadata": {},
   "source": [
    "# Red Project AI Context Viewer & Script Manager\n",
    "\n",
    "This notebook helps you view system status information and manage the health check system for your Red project. It provides an interface to:\n",
    "\n",
    "1. Make the health check script executable\n",
    "2. Run health checks on demand\n",
    "3. View system status and AI context\n",
    "4. Create script wrappers for tracking provisioning script execution\n",
    "5. Generate on-start scripts for Vast.ai"
   ]
  },
  {
   "cell_type": "code",
   "execution_count": null,
   "id": "6119ad67",
   "metadata": {},
   "outputs": [],
   "source": [
    "# Standard imports for notebook functionality\n",
    "import os\n",
    "import sys\n",
    "import time\n",
    "from IPython.display import Markdown, display\n",
    "\n",
    "# Check if running in Vast.ai environment\n",
    "in_vastai = os.path.exists('/workspace')\n",
    "if in_vastai:\n",
    "    workspace_dir = '/workspace'\n",
    "    logs_dir = '/logs'\n",
    "else:\n",
    "    # Local development environment fallback\n",
    "    workspace_dir = os.getcwd()\n",
    "    logs_dir = os.path.join(workspace_dir, 'logs')\n",
    "    os.makedirs(logs_dir, exist_ok=True)\n",
    "    \n",
    "print(f\"Workspace directory: {workspace_dir}\")\n",
    "print(f\"Logs directory: {logs_dir}\")"
   ]
  },
  {
   "cell_type": "markdown",
   "id": "d57448bd",
   "metadata": {},
   "source": [
    "## Setup Health Check Script\n",
    "\n",
    "The first step is to make sure the health check script exists and is executable."
   ]
  },
  {
   "cell_type": "code",
   "execution_count": null,
   "id": "26a3b0d9",
   "metadata": {},
   "outputs": [],
   "source": [
    "# Make the health check script executable\n",
    "health_check_path = os.path.join(workspace_dir, 'health_check.sh')\n",
    "\n",
    "if not os.path.exists(health_check_path):\n",
    "    print(f\"⚠️ Health check script not found at {health_check_path}\")\n",
    "    print(\"Creating a new script file...\")\n",
    "    !touch {health_check_path}\n",
    "    print(\"Please edit the script content or re-run the notebook setup cell.\")\n",
    "else:\n",
    "    print(f\"✅ Health check script found at {health_check_path}\")\n",
    "    \n",
    "# Make it executable\n",
    "!chmod +x {health_check_path}\n",
    "print(\"✅ Made health_check.sh executable\")"
   ]
  },
  {
   "cell_type": "code",
   "execution_count": null,
   "id": "373f0175",
   "metadata": {},
   "outputs": [],
   "source": [
    "# Run the health check script to update the context\n",
    "print(\"Running health check...\")\n",
    "!bash {health_check_path}\n",
    "print(\"✅ Health check completed\")"
   ]
  },
  {
   "cell_type": "markdown",
   "id": "957a47ff",
   "metadata": {},
   "source": [
    "## AI Context Display\n",
    "\n",
    "This section displays the current AI context information for easy viewing."
   ]
  },
  {
   "cell_type": "code",
   "execution_count": null,
   "id": "28739257",
   "metadata": {},
   "outputs": [],
   "source": [
    "# Display the AI context file\n",
    "context_path = os.path.join(workspace_dir, 'red_ai_context.md')\n",
    "\n",
    "if os.path.exists(context_path):\n",
    "    with open(context_path, 'r') as f:\n",
    "        content = f.read()\n",
    "    display(Markdown(content))\n",
    "else:\n",
    "    print(f\"⚠️ Context file not found at {context_path}\")\n",
    "    print(\"Run the health check script first to generate it.\")"
   ]
  },
  {
   "cell_type": "markdown",
   "id": "e4d378ca",
   "metadata": {},
   "source": [
    "## Provisioning Script Logging\n",
    "\n",
    "This section creates wrapper scripts for the provisioning scripts to track their execution separately."
   ]
  },
  {
   "cell_type": "code",
   "execution_count": null,
   "id": "cb4969c1",
   "metadata": {},
   "outputs": [],
   "source": [
    "# Create wrapper for vast_ai_provisioning_script.sh\n",
    "vast_script_path = \"/vast_ai_provisioning_script.sh\"\n",
    "vast_wrapper_path = \"/vast_ai_provisioning_script_wrapper.sh\"\n",
    "\n",
    "if os.path.exists(vast_script_path):\n",
    "    with open(vast_wrapper_path, \"w\") as f:\n",
    "        f.write(f\"\"\"#!/bin/bash\n",
    "mkdir -p {logs_dir}\n",
    "echo \\\"Starting vast_ai_provisioning_script.sh at $(date)\\\" > {logs_dir}/vast_ai_provisioning.log\n",
    "bash {vast_script_path} 2>&1 | tee -a {logs_dir}/vast_ai_provisioning.log\n",
    "echo \\\"vast_ai_provisioning_script.sh completed at $(date)\\\" >> {logs_dir}/vast_ai_provisioning.log\n",
    "\"\"\")\n",
    "    !chmod +x {vast_wrapper_path}\n",
    "    print(f\"✅ Created wrapper for {vast_script_path}\")\n",
    "else:\n",
    "    print(f\"⚠️ Script not found at {vast_script_path}\")"
   ]
  },
  {
   "cell_type": "code",
   "execution_count": null,
   "id": "f283b0c9",
   "metadata": {},
   "outputs": [],
   "source": [
    "# Create wrapper for src/provisioning_script.sh\n",
    "src_script_path = \"/src/provisioning_script.sh\"\n",
    "src_wrapper_path = \"/src/provisioning_script_wrapper.sh\"\n",
    "\n",
    "if os.path.exists(src_script_path):\n",
    "    with open(src_wrapper_path, \"w\") as f:\n",
    "        f.write(f\"\"\"#!/bin/bash\n",
    "mkdir -p {logs_dir}\n",
    "echo \\\"Starting src/provisioning_script.sh at $(date)\\\" > {logs_dir}/src_provisioning.log\n",
    "bash {src_script_path} 2>&1 | tee -a {logs_dir}/src_provisioning.log\n",
    "echo \\\"src/provisioning_script.sh completed at $(date)\\\" >> {logs_dir}/src_provisioning.log\n",
    "\"\"\")\n",
    "    !chmod +x {src_wrapper_path}\n",
    "    print(f\"✅ Created wrapper for {src_script_path}\")\n",
    "else:\n",
    "    print(f\"⚠️ Script not found at {src_script_path}\")"
   ]
  },
  {
   "cell_type": "code",
   "execution_count": null,
   "id": "ef41bb2c",
   "metadata": {},
   "outputs": [],
   "source": [
    "# Create wrapper for root/provisioning_script.sh\n",
    "root_script_path = \"/root/provisioning_script.sh\"\n",
    "root_wrapper_path = \"/root/provisioning_script_wrapper.sh\"\n",
    "\n",
    "if os.path.exists(root_script_path):\n",
    "    with open(root_wrapper_path, \"w\") as f:\n",
    "        f.write(f\"\"\"#!/bin/bash\n",
    "mkdir -p {logs_dir}\n",
    "echo \\\"Starting root/provisioning_script.sh at $(date)\\\" > {logs_dir}/root_provisioning.log\n",
    "bash {root_script_path} 2>&1 | tee -a {logs_dir}/root_provisioning.log\n",
    "echo \\\"root/provisioning_script.sh completed at $(date)\\\" >> {logs_dir}/root_provisioning.log\n",
    "\"\"\")\n",
    "    !chmod +x {root_wrapper_path}\n",
    "    print(f\"✅ Created wrapper for {root_script_path}\")\n",
    "else:\n",
    "    print(f\"⚠️ Script not found at {root_script_path}\")"
   ]
  },
  {
   "cell_type": "markdown",
   "id": "2b82e0a3",
   "metadata": {},
   "source": [
    "## On-Start Script Creator\n",
    "\n",
    "This cell creates a file with the fixed on-start script that you can copy to the Vast.ai interface"
   ]
  },
  {
   "cell_type": "code",
   "execution_count": null,
   "id": "88896471",
   "metadata": {},
   "outputs": [],
   "source": [
    "# Create the fixed on-start script file\n",
    "onstart_path = os.path.join(workspace_dir, \"fixed_onstart_script.sh\")\n",
    "improved_onstart_path = os.path.join(workspace_dir, \"improved_onstart.sh\")\n",
    "\n",
    "# Standard version (no separate logging)\n",
    "with open(onstart_path, \"w\") as f:\n",
    "    f.write(\"\"\"#!/bin/bash\n",
    "if [ -n \"$PROVISIONING_SCRIPT\" ]; then\n",
    "  curl -s -o /tmp/prov.sh \"$PROVISIONING_SCRIPT\" || wget -q -O /tmp/prov.sh \"$PROVISIONING_SCRIPT\"\n",
    "  chmod +x /tmp/prov.sh && bash /tmp/prov.sh\n",
    "fi\n",
    "for s in /vast_ai_provisioning_script.sh /src/provisioning_script.sh /root/provisioning_script.sh; do\n",
    "  if [ -f \"$s\" ]; then echo \"Running: $s\"; bash \"$s\"; fi\n",
    "done\n",
    "\"\"\")\n",
    "\n",
    "# Improved version with separate logging\n",
    "with open(improved_onstart_path, \"w\") as f:\n",
    "    f.write(\"\"\"#!/bin/bash\n",
    "# Improved on-start script with separate logging for each provisioning script\n",
    "\n",
    "mkdir -p /logs\n",
    "echo \"Starting improved on-start script at $(date)\" > /logs/onstart.log\n",
    "\n",
    "# Run the provisioning script from environment variable if specified\n",
    "if [ -n \"$PROVISIONING_SCRIPT\" ]; then\n",
    "  echo \"Using PROVISIONING_SCRIPT: $PROVISIONING_SCRIPT\" | tee -a /logs/onstart.log\n",
    "  curl -s -o /tmp/prov.sh \"$PROVISIONING_SCRIPT\" || wget -q -O /tmp/prov.sh \"$PROVISIONING_SCRIPT\"\n",
    "  chmod +x /tmp/prov.sh\n",
    "  echo \"Starting PROVISIONING_SCRIPT at $(date)\" > /logs/env_provisioning.log\n",
    "  bash /tmp/prov.sh 2>&1 | tee -a /logs/env_provisioning.log\n",
    "  echo \"PROVISIONING_SCRIPT completed at $(date)\" >> /logs/env_provisioning.log\n",
    "fi\n",
    "\n",
    "# Run each local provisioning script with separate logging\n",
    "for script_path in /vast_ai_provisioning_script.sh /src/provisioning_script.sh /root/provisioning_script.sh; do\n",
    "  if [ -f \"$script_path\" ]; then\n",
    "    script_name=$(basename \"$script_path\" .sh)\n",
    "    log_file=\"/logs/${script_name}.log\"\n",
    "    \n",
    "    echo \"Running: $script_path with log at $log_file\" | tee -a /logs/onstart.log\n",
    "    echo \"Starting $script_path at $(date)\" > \"$log_file\"\n",
    "    bash \"$script_path\" 2>&1 | tee -a \"$log_file\"\n",
    "    echo \"$script_path completed at $(date)\" >> \"$log_file\"\n",
    "  fi\n",
    "done\n",
    "\n",
    "echo \"Completed on-start script at $(date)\" >> /logs/onstart.log\n",
    "\"\"\")\n",
    "\n",
    "!chmod +x {onstart_path}\n",
    "!chmod +x {improved_onstart_path}\n",
    "\n",
    "print(\"Fixed On-Start Script (copy this to Vast.ai):\")\n",
    "print(\"\")\n",
    "with open(onstart_path, \"r\") as f:\n",
    "    print(f.read())"
   ]
  },
  {
   "cell_type": "markdown",
   "id": "ea451646",
   "metadata": {},
   "source": [
    "## Copy Context to Share with AI\n",
    "\n",
    "Use this cell to view and copy the raw content of the AI context file to share with Claude or other AI assistants."
   ]
  },
  {
   "cell_type": "code",
   "execution_count": null,
   "id": "1cdd8f29",
   "metadata": {},
   "outputs": [],
   "source": [
    "# View the raw content of red_ai_context.md (for copying)\n",
    "context_path = os.path.join(workspace_dir, 'red_ai_context.md')\n",
    "\n",
    "if os.path.exists(context_path):\n",
    "    with open(context_path, 'r') as f:\n",
    "        content = f.read()\n",
    "    print(content)\n",
    "else:\n",
    "    print(f\"⚠️ Context file not found at {context_path}\")\n",
    "    print(\"Run the health check script first to generate it.\")"
   ]
  },
  {
   "cell_type": "markdown",
   "id": "7ff7e080",
   "metadata": {},
   "source": [
    "## Setup Cron Job\n",
    "\n",
    "This cell will set up a cron job to run the health check script regularly."
   ]
  },
  {
   "cell_type": "code",
   "execution_count": null,
   "id": "2a170fea",
   "metadata": {},
   "outputs": [],
   "source": [
    "# Check if cron job already exists\n",
    "try:\n",
    "    existing_cron = !crontab -l 2>/dev/null\n",
    "    has_health_check = any('health_check.sh' in line for line in existing_cron)\n",
    "    \n",
    "    if has_health_check:\n",
    "        print(\"✅ Cron job for health check already exists:\")\n",
    "        for line in existing_cron:\n",
    "            if 'health_check.sh' in line:\n",
    "                print(f\"   {line}\")\n",
    "    else:\n",
    "        # Set up cron job to run health check every 6 hours\n",
    "        cron_command = f\"0 */6 * * * /bin/bash {health_check_path}\"\n",
    "        \n",
    "        if existing_cron:\n",
    "            new_cron = '\\n'.join(existing_cron + [cron_command])\n",
    "        else:\n",
    "            new_cron = cron_command\n",
    "            \n",
    "        with open('/tmp/crontab.txt', 'w') as f:\n",
    "            f.write(new_cron + '\\n')\n",
    "            \n",
    "        !crontab /tmp/crontab.txt\n",
    "        print(f\"✅ Added cron job to run health check every 6 hours: {cron_command}\")\n",
    "except Exception as e:\n",
    "    print(f\"⚠️ Failed to set up cron job: {str(e)}\")\n",
    "    print(\"You may need to manually set up the cron job with: crontab -e\")"
   ]
  }
 ],
 "metadata": {
  "language_info": {
   "name": "python"
  }
 },
 "nbformat": 4,
 "nbformat_minor": 5
}
