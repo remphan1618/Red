{
 "cells": [
  {
   "cell_type": "markdown",
   "metadata": {},
   "source": [
    "# ComfyUI Node Installer\n",
    "\n",
    "This notebook installs ComfyUI nodes for SwarmUI integration. It will:\n",
    "- Check for ComfyUI directory structure\n",
    "- Install or update specified ComfyUI nodes\n",
    "- Handle requirements installation for each node"
   ]
  },
  {
   "cell_type": "markdown",
   "metadata": {},
   "source": [
    "## Configuration\n",
    "\n",
    "Set up the ComfyUI directory path and list of nodes to install:"
   ]
  },
  {
   "cell_type": "code",
   "execution_count": null,
   "metadata": {},
   "outputs": [],
   "source": [
    "import os\n",
    "import subprocess\n",
    "import sys\n",
    "from pathlib import Path\n",
    "\n",
    "# Set ComfyUI directory to match SwarmUI's structure\n",
    "COMFYUI_DIR = \"./dlbackend/ComfyUI\"\n",
    "\n",
    "# List of nodes to install\n",
    "NODES = [\n",
    "    \"https://github.com/Comfy-Org/ComfyUI-Manager\",\n",
    "    \"https://github.com/kijai/ComfyUI-KJNodes\",\n",
    "    \"https://github.com/aria1th/ComfyUI-LogicUtils\",\n",
    "    \"https://github.com/crystian/ComfyUI-Crystools\",\n",
    "    \"https://github.com/Kosinkadink/ComfyUI-VideoHelperSuite\",\n",
    "    \"https://github.com/rgthree/rgthree-comfy\",\n",
    "    \"https://github.com/calcuis/gguf\",\n",
    "    \"https://github.com/city96/ComfyUI-GGUF\"\n",
    "]\n",
    "\n",
    "print(f\"ComfyUI Directory: {COMFYUI_DIR}\")\n",
    "print(f\"Number of nodes to install: {len(NODES)}\")"
   ]
  },
  {
   "cell_type": "markdown",
   "metadata": {},
   "source": [
    "## Directory Validation\n",
    "\n",
    "Check if the ComfyUI directory exists:"
   ]
  },
  {
   "cell_type": "code",
   "execution_count": null,
   "metadata": {},
   "outputs": [],
   "source": [
    "# Check if ComfyUI directory exists\n",
    "comfyui_path = Path(COMFYUI_DIR)\n",
    "\n",
    "if not comfyui_path.exists():\n",
    "    print(f\"❌ Error: ComfyUI directory not found at {COMFYUI_DIR}\")\n",
    "    print(\"Please run SwarmUI installation first\")\n",
    "    raise FileNotFoundError(f\"ComfyUI directory not found: {COMFYUI_DIR}\")\n",
    "else:\n",
    "    print(f\"✅ ComfyUI directory found at {COMFYUI_DIR}\")\n",
    "    \n",
    "# Create custom_nodes directory if it doesn't exist\n",
    "custom_nodes_dir = comfyui_path / \"custom_nodes\"\n",
    "custom_nodes_dir.mkdir(exist_ok=True)\n",
    "print(f\"✅ Custom nodes directory ready at {custom_nodes_dir}\")"
   ]
  },
  {
   "cell_type": "markdown",
   "metadata": {},
   "source": [
    "## Virtual Environment Setup\n",
    "\n",
    "Check for and activate ComfyUI's virtual environment if it exists:"
   ]
  },
  {
   "cell_type": "code",
   "execution_count": null,
   "metadata": {},
   "outputs": [],
   "source": [
    "# Check for virtual environment\n",
    "venv_path = comfyui_path / \"venv\" / \"bin\" / \"activate\"\n",
    "swarm_no_venv = os.environ.get(\"SWARM_NO_VENV\")\n",
    "\n",
    "if venv_path.exists() and not swarm_no_venv:\n",
    "    print(\"✅ ComfyUI virtual environment found\")\n",
    "    print(\"Note: In Jupyter, the virtual environment activation is handled differently.\")\n",
    "    print(\"Make sure you're running this notebook in the correct Python environment.\")\n",
    "else:\n",
    "    print(\"ℹ️  No virtual environment found or SWARM_NO_VENV is set\")\n",
    "    print(\"Using system Python environment\")"
   ]
  },
  {
   "cell_type": "markdown",
   "metadata": {},
   "source": [
    "## Node Installation Functions\n",
    "\n",
    "Define helper functions for installing nodes:"
   ]
  },
  {
   "cell_type": "code",
   "execution_count": null,
   "metadata": {},
   "outputs": [],
   "source": [
    "def run_command(command, cwd=None):\n",
    "    \"\"\"Run a shell command and return the result\"\"\"\n",
    "    try:\n",
    "        result = subprocess.run(\n",
    "            command, \n",
    "            shell=True, \n",
    "            cwd=cwd, \n",
    "            capture_output=True, \n",
    "            text=True, \n",
    "            check=True\n",
    "        )\n",
    "        return result.stdout\n",
    "    except subprocess.CalledProcessError as e:\n",
    "        print(f\"❌ Command failed: {command}\")\n",
    "        print(f\"Error: {e.stderr}\")\n",
    "        return None\n",
    "\n",
    "def install_requirements(requirements_path):\n",
    "    \"\"\"Install requirements from requirements.txt file\"\"\"\n",
    "    if requirements_path.exists():\n",
    "        print(f\"  📦 Installing requirements from {requirements_path}\")\n",
    "        command = f\"{sys.executable} -m pip install --no-cache-dir -r {requirements_path}\"\n",
    "        result = run_command(command)\n",
    "        if result is not None:\n",
    "            print(\"  ✅ Requirements installed successfully\")\n",
    "        return result is not None\n",
    "    return True\n",
    "\n",
    "print(\"✅ Helper functions defined\")"
   ]
  },
  {
   "cell_type": "markdown",
   "metadata": {},
   "source": [
    "## Install/Update Nodes\n",
    "\n",
    "Install or update each ComfyUI node:"
   ]
  },
  {
   "cell_type": "code",
   "execution_count": null,
   "metadata": {},
   "outputs": [],
   "source": [
    "def install_nodes():\n",
    "    \"\"\"Install or update all ComfyUI nodes\"\"\"\n",
    "    print(\"🚀 Installing ComfyUI nodes...\\n\")\n",
    "    \n",
    "    success_count = 0\n",
    "    total_count = len(NODES)\n",
    "    \n",
    "    for i, repo in enumerate(NODES, 1):\n",
    "        # Extract directory name from repo URL\n",
    "        dir_name = repo.split(\"/\")[-1]\n",
    "        node_path = custom_nodes_dir / dir_name\n",
    "        requirements_path = node_path / \"requirements.txt\"\n",
    "        \n",
    "        print(f\"[{i}/{total_count}] Processing: {dir_name}\")\n",
    "        \n",
    "        if node_path.exists():\n",
    "            print(f\"  📁 Node already exists - Updating...\")\n",
    "            # Update existing repository\n",
    "            result = run_command(\"git pull\", cwd=node_path)\n",
    "            if result is not None:\n",
    "                print(f\"  ✅ Updated successfully\")\n",
    "                if install_requirements(requirements_path):\n",
    "                    success_count += 1\n",
    "            else:\n",
    "                print(f\"  ❌ Failed to update\")\n",
    "        else:\n",
    "            print(f\"  📥 Installing new node...\")\n",
    "            # Clone new repository\n",
    "            command = f\"git clone {repo} {node_path} --recursive\"\n",
    "            result = run_command(command)\n",
    "            if result is not None:\n",
    "                print(f\"  ✅ Cloned successfully\")\n",
    "                if install_requirements(requirements_path):\n",
    "                    success_count += 1\n",
    "            else:\n",
    "                print(f\"  ❌ Failed to clone\")\n",
    "        \n",
    "        print()  # Empty line for readability\n",
    "    \n",
    "    print(f\"🎉 Node installation complete!\")\n",
    "    print(f\"✅ Successfully processed: {success_count}/{total_count} nodes\")\n",
    "    \n",
    "    if success_count < total_count:\n",
    "        print(f\"⚠️  {total_count - success_count} nodes had issues - check the output above\")\n",
    "\n",
    "# Run the installation\n",
    "install_nodes()"
   ]
  },
  {
   "cell_type": "markdown",
   "metadata": {},
   "source": [
    "## Verification\n",
    "\n",
    "Verify that all nodes were installed correctly:"
   ]
  },
  {
   "cell_type": "code",
   "execution_count": null,
   "metadata": {},
   "outputs": [],
   "source": [
    "# List installed nodes\n",
    "print(\"📋 Installed ComfyUI Nodes:\")\n",
    "print(\"=\" * 40)\n",
    "\n",
    "installed_nodes = []\n",
    "for repo in NODES:\n",
    "    dir_name = repo.split(\"/\")[-1]\n",
    "    node_path = custom_nodes_dir / dir_name\n",
    "    \n",
    "    if node_path.exists():\n",
    "        # Check if it's a git repository\n",
    "        git_dir = node_path / \".git\"\n",
    "        status = \"✅ Installed\" if git_dir.exists() else \"⚠️  Directory exists (not git)\"\n",
    "        installed_nodes.append(dir_name)\n",
    "    else:\n",
    "        status = \"❌ Not found\"\n",
    "    \n",
    "    print(f\"{status} - {dir_name}\")\n",
    "\n",
    "print(f\"\\n📊 Summary: {len(installed_nodes)}/{len(NODES)} nodes installed\")"
   ]
  },
  {
   "cell_type": "markdown",
   "metadata": {},
   "source": [
    "## Next Steps\n",
    "\n",
    "After running this notebook:\n",
    "\n",
    "1. **Restart ComfyUI**: If ComfyUI was running, restart it to load the new nodes\n",
    "2. **Check Node Manager**: Use ComfyUI-Manager to verify nodes are loaded correctly\n",
    "3. **Test Functionality**: Try using the new nodes in your ComfyUI workflows\n",
    "4. **Update Regularly**: Re-run this notebook periodically to update nodes\n",
    "\n",
    "## Troubleshooting\n",
    "\n",
    "If you encounter issues:\n",
    "- Ensure you have git installed and accessible\n",
    "- Check that you have proper permissions to write to the ComfyUI directory\n",
    "- Verify your internet connection for downloading repositories\n",
    "- Check the ComfyUI logs for any node loading errors"
   ]
  }
 ],
 "metadata": {
  "kernelspec": {
   "display_name": "Python 3",
   "language": "python",
   "name": "python3"
  },
  "language_info": {
   "codemirror_mode": {
    "name": "ipython",
    "version": 3
   },
   "file_extension": ".py",
   "mimetype": "text/x-python",
   "name": "python",
   "nbconvert_exporter": "python",
   "pygments_lexer": "ipython3",
   "version": "3.8.0"
  }
 },
 "nbformat": 4,
 "nbformat_minor": 4
}